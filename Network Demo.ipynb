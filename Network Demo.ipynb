{
 "cells": [
  {
   "cell_type": "markdown",
   "metadata": {},
   "source": [
    "# Demo of Network Analysis using Networkx"
   ]
  },
  {
   "cell_type": "code",
   "execution_count": null,
   "metadata": {},
   "outputs": [],
   "source": [
    "import pandas as pd\n",
    "import networkx as nx\n",
    "from bokeh.io import output_file, show,output_notebook, output_file\n",
    "from bokeh.models import (BoxZoomTool, Circle, HoverTool,\n",
    "                          MultiLine, Plot, Range1d, ResetTool,)\n",
    "from bokeh.plotting import from_networkx\n",
    "from bokeh.transform import transform    \n",
    "from bokeh.models import CustomJSTransform, LabelSet\n",
    "from csv import reader\n",
    "output_notebook()"
   ]
  },
  {
   "cell_type": "code",
   "execution_count": null,
   "metadata": {},
   "outputs": [],
   "source": [
    "graph = []\n",
    "# import nodes and edges into pandas\n",
    "nodes = pd.read_csv ('Nodes.csv')\n",
    "nodes.set_index(\"id\", inplace=True)\n",
    "edges = pd.read_csv ('Edges.csv')\n",
    "# add edges to graph\n",
    "for i in range(0,len(edges)):\n",
    "    source = edges.iloc[i].Source\n",
    "    sourcename = nodes.loc[source].Label\n",
    "    target = edges.iloc[i].Target\n",
    "    targetname = nodes.loc[target].Label\n",
    "    graph.append((sourcename,targetname))\n",
    "G = nx.Graph()\n",
    "G.add_edges_from(graph)\n",
    "edge_attrs = {}\n",
    "\n",
    "# Show with Bokeh\n",
    "plot = Plot(plot_width=1000, plot_height=1000,\n",
    "            x_range=Range1d(-1.1, 1.1), y_range=Range1d(-1.1, 1.1))\n",
    "plot.title.text = \" Network Graph\"\n",
    "\n",
    "\n",
    "graph_renderer = from_networkx(G, nx.shell_layout, scale=0.8, center=(0, 0))\n",
    "\n",
    "graph_renderer.node_renderer.glyph = Circle(size=15, fill_color=Spectral4[0])\n",
    "graph_renderer.edge_renderer.glyph = MultiLine( line_alpha=0.8, line_width=1)\n",
    "source = graph_renderer.node_renderer.data_source\n",
    "source.data['names'] = source.data['index']\n",
    "plot.renderers.append(graph_renderer)\n",
    "\n",
    "# create a transform that can extract the actual x,y positions\n",
    "code = \"\"\"\n",
    "    var result = new Float64Array(xs.length)\n",
    "    for (var i = 0; i < xs.length; i++) {\n",
    "        result[i] = provider.graph_layout[xs[i]][%s]\n",
    "    }\n",
    "    return result\n",
    "\"\"\"\n",
    "xcoord = CustomJSTransform(v_func=code % \"0\", args=dict(provider=graph_renderer.layout_provider))\n",
    "ycoord = CustomJSTransform(v_func=code % \"1\", args=dict(provider=graph_renderer.layout_provider))\n",
    "\n",
    "# Use the transforms to supply coords to a LabelSet \n",
    "labels = LabelSet(x=transform('index', xcoord),\n",
    "                  y=transform('index', ycoord),\n",
    "                  text='names', text_font_size=\"12px\",\n",
    "                  x_offset=5, y_offset=5,\n",
    "                  source=source, render_mode='canvas')\n",
    "\n",
    "plot.add_layout(labels)\n",
    "output_file(\"NetworkAnalysis.html\")\n",
    "show(plot)"
   ]
  },
  {
   "cell_type": "code",
   "execution_count": null,
   "metadata": {},
   "outputs": [],
   "source": [
    "nx.degree_centrality(G) "
   ]
  },
  {
   "cell_type": "code",
   "execution_count": null,
   "metadata": {},
   "outputs": [],
   "source": [
    "nx.betweenness_centrality(G)"
   ]
  },
  {
   "cell_type": "code",
   "execution_count": null,
   "metadata": {},
   "outputs": [],
   "source": [
    "nx.closeness_centrality(G)"
   ]
  },
  {
   "cell_type": "code",
   "execution_count": null,
   "metadata": {},
   "outputs": [],
   "source": [
    "list(nx.connected_components(G))"
   ]
  },
  {
   "cell_type": "code",
   "execution_count": null,
   "metadata": {},
   "outputs": [],
   "source": [
    "nx.density(G)\n"
   ]
  },
  {
   "cell_type": "code",
   "execution_count": null,
   "metadata": {},
   "outputs": [],
   "source": [
    "nx.diameter(G)"
   ]
  }
 ],
 "metadata": {
  "kernelspec": {
   "display_name": "Python 3",
   "language": "python",
   "name": "python3"
  },
  "language_info": {
   "codemirror_mode": {
    "name": "ipython",
    "version": 3
   },
   "file_extension": ".py",
   "mimetype": "text/x-python",
   "name": "python",
   "nbconvert_exporter": "python",
   "pygments_lexer": "ipython3",
   "version": "3.7.5"
  }
 },
 "nbformat": 4,
 "nbformat_minor": 4
}
